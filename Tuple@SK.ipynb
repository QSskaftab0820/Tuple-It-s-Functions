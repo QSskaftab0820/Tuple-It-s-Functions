{
 "cells": [
  {
   "cell_type": "markdown",
   "id": "62c1db89-3831-49c3-8005-720bd77bd680",
   "metadata": {},
   "source": [
    "# TUPLE & its FUNCTION\n",
    "#### 1).count()\n",
    "#### 2).index()"
   ]
  },
  {
   "cell_type": "code",
   "execution_count": 2,
   "id": "6c44a389-d5af-4941-9fcf-ebcfc3ebd3ce",
   "metadata": {},
   "outputs": [
    {
     "data": {
      "text/plain": [
       "()"
      ]
     },
     "execution_count": 2,
     "metadata": {},
     "output_type": "execute_result"
    }
   ],
   "source": [
    "t=()#Empty Tuple, Tuple start from open and close bracket\n",
    "t"
   ]
  },
  {
   "cell_type": "code",
   "execution_count": 3,
   "id": "4ee3cba9-237c-4ec6-b296-2182a16ca913",
   "metadata": {},
   "outputs": [
    {
     "name": "stdout",
     "output_type": "stream",
     "text": [
      "<class 'tuple'>\n"
     ]
    }
   ],
   "source": [
    "print(type(t))"
   ]
  },
  {
   "cell_type": "code",
   "execution_count": 4,
   "id": "54d6558f-d74f-4538-9439-2e06dfb8e258",
   "metadata": {},
   "outputs": [
    {
     "data": {
      "text/plain": [
       "(10, 20, 30, 40, 40)"
      ]
     },
     "execution_count": 4,
     "metadata": {},
     "output_type": "execute_result"
    }
   ],
   "source": [
    "t1 = (10,20,30,40,40)\n",
    "t1"
   ]
  },
  {
   "cell_type": "code",
   "execution_count": 5,
   "id": "6341ad9d-d69d-400a-8643-1fcb359d3ce4",
   "metadata": {},
   "outputs": [
    {
     "data": {
      "text/plain": [
       "5"
      ]
     },
     "execution_count": 5,
     "metadata": {},
     "output_type": "execute_result"
    }
   ],
   "source": [
    "len(t1)"
   ]
  },
  {
   "cell_type": "code",
   "execution_count": 6,
   "id": "fc36f70c-a8a9-446c-bf02-c67377728f05",
   "metadata": {},
   "outputs": [
    {
     "data": {
      "text/plain": [
       "10"
      ]
     },
     "execution_count": 6,
     "metadata": {},
     "output_type": "execute_result"
    }
   ],
   "source": [
    "t1[0]"
   ]
  },
  {
   "cell_type": "code",
   "execution_count": 7,
   "id": "13c9f8e6-d490-4bb4-9099-1d55767bfa9c",
   "metadata": {},
   "outputs": [
    {
     "data": {
      "text/plain": [
       "(10, 20, 30, 40)"
      ]
     },
     "execution_count": 7,
     "metadata": {},
     "output_type": "execute_result"
    }
   ],
   "source": [
    "t1[0:4]"
   ]
  },
  {
   "cell_type": "code",
   "execution_count": 8,
   "id": "a286915f-901c-46d0-9ebd-40d30bdd3544",
   "metadata": {},
   "outputs": [
    {
     "data": {
      "text/plain": [
       "(10, 20, 30, 40)"
      ]
     },
     "execution_count": 8,
     "metadata": {},
     "output_type": "execute_result"
    }
   ],
   "source": [
    "t1[:4]#it wil take all the element because 4 indx are not present \n",
    "      #but more than the indexs given"
   ]
  },
  {
   "cell_type": "code",
   "execution_count": 9,
   "id": "6ac313f2-3afc-4462-b205-9aaf0bd38547",
   "metadata": {},
   "outputs": [
    {
     "data": {
      "text/plain": [
       "(10, 20, 30, 40, 40)"
      ]
     },
     "execution_count": 9,
     "metadata": {},
     "output_type": "execute_result"
    }
   ],
   "source": [
    "t1"
   ]
  },
  {
   "cell_type": "code",
   "execution_count": 41,
   "id": "eef79562-f0cc-423b-a9cc-c3cc1a776d01",
   "metadata": {},
   "outputs": [
    {
     "ename": "ValueError",
     "evalue": "slice step cannot be zero",
     "output_type": "error",
     "traceback": [
      "\u001b[1;31m---------------------------------------------------------------------------\u001b[0m",
      "\u001b[1;31mValueError\u001b[0m                                Traceback (most recent call last)",
      "Cell \u001b[1;32mIn[41], line 1\u001b[0m\n\u001b[1;32m----> 1\u001b[0m t1[\u001b[38;5;241m0\u001b[39m:\u001b[38;5;241m0\u001b[39m:\u001b[38;5;241m0\u001b[39m]\n",
      "\u001b[1;31mValueError\u001b[0m: slice step cannot be zero"
     ]
    }
   ],
   "source": [
    "t1[0:0:0]"
   ]
  },
  {
   "cell_type": "code",
   "execution_count": 43,
   "id": "a7025706-178d-4410-92a8-a1632c52c6e1",
   "metadata": {},
   "outputs": [
    {
     "data": {
      "text/plain": [
       "()"
      ]
     },
     "execution_count": 43,
     "metadata": {},
     "output_type": "execute_result"
    }
   ],
   "source": [
    "t1[1:1:1]#start & stop index is same, means the tuple is empty"
   ]
  },
  {
   "cell_type": "code",
   "execution_count": 45,
   "id": "9f019490-24a8-4f5b-b90f-428d0aaa5f44",
   "metadata": {},
   "outputs": [
    {
     "data": {
      "text/plain": [
       "(20,)"
      ]
     },
     "execution_count": 45,
     "metadata": {},
     "output_type": "execute_result"
    }
   ],
   "source": [
    "t1[1:2:1]"
   ]
  },
  {
   "cell_type": "code",
   "execution_count": 47,
   "id": "b3a6c4e6-28a8-4553-8335-d2531bc8d44d",
   "metadata": {},
   "outputs": [
    {
     "data": {
      "text/plain": [
       "(10, 20, 30, 40, 40)"
      ]
     },
     "execution_count": 47,
     "metadata": {},
     "output_type": "execute_result"
    }
   ],
   "source": [
    "t1"
   ]
  },
  {
   "cell_type": "code",
   "execution_count": 49,
   "id": "c4e7ebd2-9326-4c7e-8a89-028ef80ee6a3",
   "metadata": {},
   "outputs": [
    {
     "data": {
      "text/plain": [
       "()"
      ]
     },
     "execution_count": 49,
     "metadata": {},
     "output_type": "execute_result"
    }
   ],
   "source": [
    "t1[1:3:-1]#slicing direction is incorrect"
   ]
  },
  {
   "cell_type": "code",
   "execution_count": 51,
   "id": "a8c79b0f-a99f-44c2-9340-4f5d99440f91",
   "metadata": {},
   "outputs": [
    {
     "data": {
      "text/plain": [
       "(10, 20, 30, 40, 40)"
      ]
     },
     "execution_count": 51,
     "metadata": {},
     "output_type": "execute_result"
    }
   ],
   "source": [
    "t1"
   ]
  },
  {
   "cell_type": "code",
   "execution_count": 53,
   "id": "ffa611f5-99a2-40d0-8361-d4c15bbe0782",
   "metadata": {},
   "outputs": [
    {
     "data": {
      "text/plain": [
       "(40, 30)"
      ]
     },
     "execution_count": 53,
     "metadata": {},
     "output_type": "execute_result"
    }
   ],
   "source": [
    "t1[3:1:-1]#for backward slicing, you shoud start from a higher indx."
   ]
  },
  {
   "cell_type": "code",
   "execution_count": 55,
   "id": "9667739b-fff6-4801-9115-098200162301",
   "metadata": {},
   "outputs": [
    {
     "data": {
      "text/plain": [
       "(10, 20, 30, 40, 40)"
      ]
     },
     "execution_count": 55,
     "metadata": {},
     "output_type": "execute_result"
    }
   ],
   "source": [
    "t1"
   ]
  },
  {
   "cell_type": "code",
   "execution_count": 57,
   "id": "5c9162c8-949b-4afb-b314-c133ce1a6f8a",
   "metadata": {},
   "outputs": [
    {
     "data": {
      "text/plain": [
       "(10, 20, 30, 40, 40)"
      ]
     },
     "execution_count": 57,
     "metadata": {},
     "output_type": "execute_result"
    }
   ],
   "source": [
    "t1[::1]"
   ]
  },
  {
   "cell_type": "code",
   "execution_count": 59,
   "id": "b4241abe-4fee-4595-8c93-bcef198ed446",
   "metadata": {},
   "outputs": [
    {
     "data": {
      "text/plain": [
       "(10,)"
      ]
     },
     "execution_count": 59,
     "metadata": {},
     "output_type": "execute_result"
    }
   ],
   "source": [
    "t1[:1:1]"
   ]
  },
  {
   "cell_type": "code",
   "execution_count": 61,
   "id": "289fb9c6-fd42-4013-ad39-99268d66958b",
   "metadata": {},
   "outputs": [
    {
     "data": {
      "text/plain": [
       "(20, 30, 40)"
      ]
     },
     "execution_count": 61,
     "metadata": {},
     "output_type": "execute_result"
    }
   ],
   "source": [
    "t1[1:-1:1]"
   ]
  },
  {
   "cell_type": "code",
   "execution_count": 63,
   "id": "e81e7fb5-b503-4ea6-8d5a-191eeb75e623",
   "metadata": {},
   "outputs": [
    {
     "data": {
      "text/plain": [
       "(10, 20, 30, 40, 40)"
      ]
     },
     "execution_count": 63,
     "metadata": {},
     "output_type": "execute_result"
    }
   ],
   "source": [
    "t1"
   ]
  },
  {
   "cell_type": "code",
   "execution_count": 65,
   "id": "66f3a9bf-3234-4b5a-8fc7-41d5795de645",
   "metadata": {},
   "outputs": [
    {
     "data": {
      "text/plain": [
       "(40, 40, 30, 20, 10)"
      ]
     },
     "execution_count": 65,
     "metadata": {},
     "output_type": "execute_result"
    }
   ],
   "source": [
    "t1[::-1]"
   ]
  },
  {
   "cell_type": "code",
   "execution_count": 67,
   "id": "c578c833-9f25-4eec-8212-2015256b1f71",
   "metadata": {},
   "outputs": [
    {
     "data": {
      "text/plain": [
       "(10, 20, 30, 40, 40)"
      ]
     },
     "execution_count": 67,
     "metadata": {},
     "output_type": "execute_result"
    }
   ],
   "source": [
    "t1[::]"
   ]
  },
  {
   "cell_type": "code",
   "execution_count": 69,
   "id": "0a39bf99-4836-4c45-a802-9f857996fd9f",
   "metadata": {},
   "outputs": [
    {
     "data": {
      "text/plain": [
       "(10, 20, 30, 40, 40)"
      ]
     },
     "execution_count": 69,
     "metadata": {},
     "output_type": "execute_result"
    }
   ],
   "source": [
    "t1[:]"
   ]
  },
  {
   "cell_type": "code",
   "execution_count": 71,
   "id": "f9ebff1d-6ee2-4129-bd0b-c4210533b986",
   "metadata": {},
   "outputs": [
    {
     "data": {
      "text/plain": [
       "()"
      ]
     },
     "execution_count": 71,
     "metadata": {},
     "output_type": "execute_result"
    }
   ],
   "source": [
    "t1[4:3:2]#cause the start ind is greater than stop indx"
   ]
  },
  {
   "cell_type": "code",
   "execution_count": 73,
   "id": "b2f80ab2-7a36-4aff-8874-ff29e279e05b",
   "metadata": {},
   "outputs": [
    {
     "data": {
      "text/plain": [
       "(40,)"
      ]
     },
     "execution_count": 73,
     "metadata": {},
     "output_type": "execute_result"
    }
   ],
   "source": [
    "t1[4:3:-1]#step is negative(it will move backward)"
   ]
  },
  {
   "cell_type": "code",
   "execution_count": 75,
   "id": "d7e26486-ab52-4cfc-a945-bc14589f1c2c",
   "metadata": {},
   "outputs": [
    {
     "data": {
      "text/plain": [
       "(10, 20, 30, 40, 50)"
      ]
     },
     "execution_count": 75,
     "metadata": {},
     "output_type": "execute_result"
    }
   ],
   "source": [
    "t2=(10,20,30,40,50)\n",
    "t2"
   ]
  },
  {
   "cell_type": "code",
   "execution_count": 77,
   "id": "956c1373-c287-4555-8b3f-750462ce67a3",
   "metadata": {},
   "outputs": [
    {
     "data": {
      "text/plain": [
       "(50,)"
      ]
     },
     "execution_count": 77,
     "metadata": {},
     "output_type": "execute_result"
    }
   ],
   "source": [
    "t2[4:3:-1]"
   ]
  },
  {
   "cell_type": "code",
   "execution_count": 79,
   "id": "2803c65c-6190-4264-949d-8857fb2c6fe8",
   "metadata": {},
   "outputs": [
    {
     "data": {
      "text/plain": [
       "1"
      ]
     },
     "execution_count": 79,
     "metadata": {},
     "output_type": "execute_result"
    }
   ],
   "source": [
    "t1.count(20)"
   ]
  },
  {
   "cell_type": "code",
   "execution_count": 81,
   "id": "1881ab24-1e32-4eba-b7bc-de3e2748c644",
   "metadata": {},
   "outputs": [
    {
     "data": {
      "text/plain": [
       "2"
      ]
     },
     "execution_count": 81,
     "metadata": {},
     "output_type": "execute_result"
    }
   ],
   "source": [
    "t1.index(30)"
   ]
  },
  {
   "cell_type": "code",
   "execution_count": 83,
   "id": "42f16d8b-f618-462c-9ca6-e83bbb18fc58",
   "metadata": {},
   "outputs": [
    {
     "data": {
      "text/plain": [
       "(20, 2.5, 'sk', True, (1+2j))"
      ]
     },
     "execution_count": 83,
     "metadata": {},
     "output_type": "execute_result"
    }
   ],
   "source": [
    "t3=(20,2.5,\"sk\",True,1+2j)\n",
    "t3"
   ]
  },
  {
   "cell_type": "code",
   "execution_count": 85,
   "id": "fb35d9e4-8951-4ceb-a489-14d0f8def521",
   "metadata": {},
   "outputs": [
    {
     "ename": "TypeError",
     "evalue": "'tuple' object does not support item assignment",
     "output_type": "error",
     "traceback": [
      "\u001b[1;31m---------------------------------------------------------------------------\u001b[0m",
      "\u001b[1;31mTypeError\u001b[0m                                 Traceback (most recent call last)",
      "Cell \u001b[1;32mIn[85], line 1\u001b[0m\n\u001b[1;32m----> 1\u001b[0m t1[\u001b[38;5;241m1\u001b[39m]\u001b[38;5;241m=\u001b[39m\u001b[38;5;241m34\u001b[39m\n",
      "\u001b[1;31mTypeError\u001b[0m: 'tuple' object does not support item assignment"
     ]
    }
   ],
   "source": [
    "t1[1]=34#Tuple is immutable or unchangeable"
   ]
  },
  {
   "cell_type": "code",
   "execution_count": 87,
   "id": "8e95d3e1-a770-47ba-8098-489a7650b01f",
   "metadata": {},
   "outputs": [
    {
     "data": {
      "text/plain": [
       "(20, 2.5, 'sk', True, (1+2j), 10, 20, 30, 40, 40)"
      ]
     },
     "execution_count": 87,
     "metadata": {},
     "output_type": "execute_result"
    }
   ],
   "source": [
    "t2=t3+t1#nested tuple\n",
    "t2"
   ]
  },
  {
   "cell_type": "code",
   "execution_count": 89,
   "id": "d2abb1ce-28d3-4683-9640-41a0b11ba7a2",
   "metadata": {},
   "outputs": [
    {
     "data": {
      "text/plain": [
       "(10, 20, 30, 40, 40)"
      ]
     },
     "execution_count": 89,
     "metadata": {},
     "output_type": "execute_result"
    }
   ],
   "source": [
    "t1"
   ]
  },
  {
   "cell_type": "code",
   "execution_count": 91,
   "id": "e61bad59-01e7-413b-98a8-f0079736c03d",
   "metadata": {},
   "outputs": [],
   "source": [
    "t4 = t1 * 3 #tuple is immutable but it allow the element to repeat"
   ]
  },
  {
   "cell_type": "code",
   "execution_count": 93,
   "id": "be44daa3-71ef-455f-9656-1dc1e48d6d12",
   "metadata": {},
   "outputs": [
    {
     "data": {
      "text/plain": [
       "(10, 20, 30, 40, 40, 10, 20, 30, 40, 40, 10, 20, 30, 40, 40)"
      ]
     },
     "execution_count": 93,
     "metadata": {},
     "output_type": "execute_result"
    }
   ],
   "source": [
    "t4"
   ]
  },
  {
   "cell_type": "code",
   "execution_count": 95,
   "id": "4dbc4e5e-af44-43f9-a647-47a838f654db",
   "metadata": {},
   "outputs": [
    {
     "data": {
      "text/plain": [
       "()"
      ]
     },
     "execution_count": 95,
     "metadata": {},
     "output_type": "execute_result"
    }
   ],
   "source": [
    "t4[:0]"
   ]
  },
  {
   "cell_type": "code",
   "execution_count": 97,
   "id": "d557638e-cd9e-4fd7-ad18-75fdab229b83",
   "metadata": {},
   "outputs": [
    {
     "data": {
      "text/plain": [
       "()"
      ]
     },
     "execution_count": 97,
     "metadata": {},
     "output_type": "execute_result"
    }
   ],
   "source": [
    "t4[4:3:1]"
   ]
  },
  {
   "cell_type": "code",
   "execution_count": 99,
   "id": "74d07172-fe63-4ab0-8ba0-d772c671fa39",
   "metadata": {},
   "outputs": [
    {
     "data": {
      "text/plain": [
       "(40,)"
      ]
     },
     "execution_count": 99,
     "metadata": {},
     "output_type": "execute_result"
    }
   ],
   "source": [
    "t4[3:4:1]#cause it is a tuple comma will come with one value."
   ]
  },
  {
   "cell_type": "code",
   "execution_count": 101,
   "id": "3b47256d-ae84-4b62-b481-5458e5477927",
   "metadata": {},
   "outputs": [
    {
     "data": {
      "text/plain": [
       "(40,)"
      ]
     },
     "execution_count": 101,
     "metadata": {},
     "output_type": "execute_result"
    }
   ],
   "source": [
    " t4[4:3:-1]"
   ]
  },
  {
   "cell_type": "code",
   "execution_count": 103,
   "id": "447b3a36-b526-4eed-b3db-812b4d0cac4a",
   "metadata": {},
   "outputs": [
    {
     "data": {
      "text/plain": [
       "(10, 20, 30, 40, 40, 10, 20, 30, 40, 40, 10, 20, 30, 40, 40)"
      ]
     },
     "execution_count": 103,
     "metadata": {},
     "output_type": "execute_result"
    }
   ],
   "source": [
    "t4"
   ]
  },
  {
   "cell_type": "code",
   "execution_count": 105,
   "id": "429a1f45-c41a-4096-abc6-99c3b7b8b4c8",
   "metadata": {},
   "outputs": [
    {
     "data": {
      "text/plain": [
       "(10, 20, 30, 40, 40, 10, 20, 30, 40, 40, 10, 20, 30, 40, 40)"
      ]
     },
     "execution_count": 105,
     "metadata": {},
     "output_type": "execute_result"
    }
   ],
   "source": [
    "t4[::1]"
   ]
  },
  {
   "cell_type": "code",
   "execution_count": 107,
   "id": "6c4afb51-8f84-4a54-94fb-cdd835d20f6d",
   "metadata": {},
   "outputs": [
    {
     "data": {
      "text/plain": [
       "(10, 20, 30, 40, 40, 10, 20, 30, 40, 40, 10, 20, 30, 40)"
      ]
     },
     "execution_count": 107,
     "metadata": {},
     "output_type": "execute_result"
    }
   ],
   "source": [
    "t4[:-1:]"
   ]
  },
  {
   "cell_type": "code",
   "execution_count": 109,
   "id": "2ef4b40d-5bbd-4738-9c7f-f5b9613bd39b",
   "metadata": {},
   "outputs": [
    {
     "data": {
      "text/plain": [
       "(10, 20, 30, 40, 40, 10, 20, 30, 40, 40, 10, 20, 30, 40, 40)"
      ]
     },
     "execution_count": 109,
     "metadata": {},
     "output_type": "execute_result"
    }
   ],
   "source": [
    "t4"
   ]
  },
  {
   "cell_type": "code",
   "execution_count": 117,
   "id": "992ed895-fac3-4479-b6dd-e70578cb571d",
   "metadata": {},
   "outputs": [
    {
     "data": {
      "text/plain": [
       "(20, 2.5, 'sk', True, (1+2j))"
      ]
     },
     "execution_count": 117,
     "metadata": {},
     "output_type": "execute_result"
    }
   ],
   "source": [
    "t3"
   ]
  },
  {
   "cell_type": "code",
   "execution_count": 127,
   "id": "e927250c-b8ee-49e1-a403-bec5da8b8a0e",
   "metadata": {},
   "outputs": [
    {
     "name": "stdout",
     "output_type": "stream",
     "text": [
      "20\n",
      "2.5\n",
      "sk\n",
      "True\n",
      "(1+2j)\n"
     ]
    }
   ],
   "source": [
    "for i in t3:\n",
    "    print(i)"
   ]
  },
  {
   "cell_type": "code",
   "execution_count": 125,
   "id": "d494e700-03ce-4582-b025-410fc02d370b",
   "metadata": {},
   "outputs": [
    {
     "name": "stdout",
     "output_type": "stream",
     "text": [
      "(0, 20)\n",
      "(1, 2.5)\n",
      "(2, 'sk')\n",
      "(3, True)\n",
      "(4, (1+2j))\n"
     ]
    }
   ],
   "source": [
    "for i in enumerate(t3):\n",
    "    print(i)\n"
   ]
  },
  {
   "cell_type": "code",
   "execution_count": null,
   "id": "aeb8f16a-6c1d-4b3b-af68-8a55f83a1b4e",
   "metadata": {},
   "outputs": [],
   "source": []
  }
 ],
 "metadata": {
  "kernelspec": {
   "display_name": "Python [conda env:base] *",
   "language": "python",
   "name": "conda-base-py"
  },
  "language_info": {
   "codemirror_mode": {
    "name": "ipython",
    "version": 3
   },
   "file_extension": ".py",
   "mimetype": "text/x-python",
   "name": "python",
   "nbconvert_exporter": "python",
   "pygments_lexer": "ipython3",
   "version": "3.12.7"
  }
 },
 "nbformat": 4,
 "nbformat_minor": 5
}
